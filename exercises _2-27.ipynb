{
 "cells": [
  {
   "cell_type": "markdown",
   "id": "4bb40717",
   "metadata": {},
   "source": [
    "#### Exercise 1 - Turn the shopping cart program into an object-oriented program"
   ]
  },
  {
   "cell_type": "code",
   "execution_count": null,
   "id": "d6adacc7",
   "metadata": {},
   "outputs": [],
   "source": [
    "# Create a class called cart that retains items and has methods to add, remove, and show\n",
    "\n",
    "class Cart():\n",
    "    def __init__(self, customer_name):\n",
    "        self.customer_name = customer_name\n",
    "        self.cart = []\n",
    "\n",
    "    def add_to_cart(self, new_item):\n",
    "        self.cart.append(new_item)\n",
    "        print(f\"\\nSo far you have the following in your cart:\\n\")\n",
    "        for i in self.cart:\n",
    "            print(f\"\\nArtist: {i}\\n\")\n",
    "    \n",
    "    def remove_from_cart(self, deleted_item,):\n",
    "        self.cart.remove(deleted_item)\n",
    "        print(f\"\\nSo far you have the following in your cart:\\n\")\n",
    "        for i in self.cart:\n",
    "            print(f\"\\nArtist: {i}\\n\")\n",
    "    \n",
    "    def show_cart(self):\n",
    "        print(\"\\nBelow is your current cart:\\n\")\n",
    "        for i in self.cart:\n",
    "            print(f\"\\nArtist: {i}\")\n",
    "        \n",
    "    \n",
    "def run():\n",
    "    cust_name = input(\"\\nWelcome!\\n\\nWhat is your name?\\n\")\n",
    "    my_cart = Cart(cust_name)\n",
    "    while True:\n",
    "        ask = input(\"\\nWhat would you like to do? Add/Delete/Show/Quit\\n\").lower()\n",
    "        if ask == 'quit':\n",
    "            break\n",
    "        elif ask == 'add':\n",
    "            item = input(\"\\nWhich concert would you like to ADD?\\n\")\n",
    "            my_cart.add_to_cart(item.title())\n",
    "        elif ask == 'delete':\n",
    "            item = input(\"\\nWhich concert would you like to DELETE?\\n\")\n",
    "            my_cart.remove_from_cart(item.title())\n",
    "        elif ask == 'show':\n",
    "            my_cart.show_cart()\n",
    "            \n",
    "            \n",
    "    \n",
    "\n",
    "    \n",
    "run()"
   ]
  },
  {
   "cell_type": "markdown",
   "id": "582a88ae",
   "metadata": {},
   "source": [
    "#### Exercise 2 - Write a Python class for an Animal that has a name and energy attributes. The animal class should also have methods for eat, sleep, and play that will take in an integer and increase/decrease the energy of the animal with a formatted print statement"
   ]
  },
  {
   "cell_type": "code",
   "execution_count": null,
   "id": "4d486844",
   "metadata": {},
   "outputs": [],
   "source": [
    "class Animal():\n",
    "    \n",
    "    def __init__(self, name, energy_level=200):\n",
    "        self.name = name\n",
    "        self.energy_level = energy_level\n",
    "        \n",
    "    def eat(self, energy_lost):\n",
    "        self.energy_level = self.energy_level - (energy_lost * 2)\n",
    "        print(f\" {self.name} ate food and now has an energy level of {self.energy_level}\")\n",
    "        \n",
    "    def sleep(self, energy_gained):\n",
    "        self.energy_level = self.energy_level + (energy_gained * 10)\n",
    "        print(f\" {self.name} slept and now has an energy level of {self.energy_level}\")\n",
    "        \n",
    "    def play(self, energy_lost):\n",
    "        self.energy_level = self.energy_level - (energy_lost * 4)\n",
    "        print(f\" {self.name} played outside and now has an energy level of {self.energy_level}\")\n",
    "        \n",
    "        \n",
    "my_pet = Animal('Oreo')\n",
    "\n",
    "\n",
    "\n",
    "my_pet.eat(30)\n",
    "my_pet.sleep(80)\n",
    "my_pet.play(40)\n",
    "\n",
    "\n"
   ]
  },
  {
   "cell_type": "code",
   "execution_count": null,
   "id": "35a7b5d4",
   "metadata": {},
   "outputs": [],
   "source": []
  }
 ],
 "metadata": {
  "kernelspec": {
   "display_name": "Python 3 (ipykernel)",
   "language": "python",
   "name": "python3"
  },
  "language_info": {
   "codemirror_mode": {
    "name": "ipython",
    "version": 3
   },
   "file_extension": ".py",
   "mimetype": "text/x-python",
   "name": "python",
   "nbconvert_exporter": "python",
   "pygments_lexer": "ipython3",
   "version": "3.9.13"
  }
 },
 "nbformat": 4,
 "nbformat_minor": 5
}
